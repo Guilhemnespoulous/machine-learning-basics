{
 "cells": [
  {
   "cell_type": "code",
   "execution_count": 60,
   "metadata": {},
   "outputs": [
    {
     "data": {
      "text/plain": [
       "1        80\n",
       "2        80\n",
       "3        80\n",
       "4        80\n",
       "Total    80\n",
       "dtype: int64"
      ]
     },
     "execution_count": 60,
     "metadata": {},
     "output_type": "execute_result"
    }
   ],
   "source": [
    "import numpy as np\n",
    "import pandas as pd\n",
    "import matplotlib.pyplot as plt\n",
    "\n",
    "\n",
    "four_dice = np.zeros([pow(6,4),5]) # 1296 rows x 5 columns\n",
    "n = 0\n",
    "outcomes = [1,2,3,4,5,6]\n",
    "for i in outcomes:\n",
    "    for j in outcomes:\n",
    "        for k in outcomes:\n",
    "            for l in outcomes:\n",
    "                four_dice[n,:] = [i,j,k,l,i+j+k+l]\n",
    "                n +=1\n",
    "four_dice_df = pd.DataFrame(four_dice,columns=('1','2','3','4','Total'))\n",
    "#four_dice_df # print the table of all possible outcomes\n",
    "#four_dice_df[four_dice_df['Total'] == 18].count()\n"
   ]
  },
  {
   "cell_type": "code",
   "execution_count": 41,
   "metadata": {},
   "outputs": [],
   "source": [
    "df18 = four_dice_df[four_dice_df['Total'] == 18]"
   ]
  },
  {
   "cell_type": "code",
   "execution_count": 44,
   "metadata": {},
   "outputs": [
    {
     "data": {
      "text/plain": [
       "1        80\n",
       "2        80\n",
       "3        80\n",
       "4        80\n",
       "Total    80\n",
       "dtype: int64"
      ]
     },
     "execution_count": 44,
     "metadata": {},
     "output_type": "execute_result"
    }
   ],
   "source": [
    "df18.count(axis='index')"
   ]
  },
  {
   "cell_type": "code",
   "execution_count": null,
   "metadata": {},
   "outputs": [],
   "source": []
  }
 ],
 "metadata": {
  "kernelspec": {
   "display_name": "Python 3",
   "language": "python",
   "name": "python3"
  },
  "language_info": {
   "codemirror_mode": {
    "name": "ipython",
    "version": 3
   },
   "file_extension": ".py",
   "mimetype": "text/x-python",
   "name": "python",
   "nbconvert_exporter": "python",
   "pygments_lexer": "ipython3",
   "version": "3.8.5"
  }
 },
 "nbformat": 4,
 "nbformat_minor": 4
}
